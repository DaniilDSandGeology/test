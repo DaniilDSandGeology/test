{
 "cells": [
  {
   "cell_type": "markdown",
   "id": "8f3bf406",
   "metadata": {},
   "source": [
    "## игра угадай"
   ]
  },
  {
   "cell_type": "code",
   "execution_count": 2,
   "id": "6a9d475a",
   "metadata": {},
   "outputs": [],
   "source": [
    "from game_2 import score_game, random_predict "
   ]
  },
  {
   "cell_type": "code",
   "execution_count": 3,
   "id": "65883da7",
   "metadata": {},
   "outputs": [
    {
     "name": "stdout",
     "output_type": "stream",
     "text": [
      "ващ алшгоритм в средне  угдадыает число за 101 попыток\n"
     ]
    },
    {
     "data": {
      "text/plain": [
       "101"
      ]
     },
     "execution_count": 3,
     "metadata": {},
     "output_type": "execute_result"
    }
   ],
   "source": [
    "score_game(random_predict)"
   ]
  }
 ],
 "metadata": {
  "kernelspec": {
   "display_name": "Python 3",
   "language": "python",
   "name": "python3"
  },
  "language_info": {
   "codemirror_mode": {
    "name": "ipython",
    "version": 3
   },
   "file_extension": ".py",
   "mimetype": "text/x-python",
   "name": "python",
   "nbconvert_exporter": "python",
   "pygments_lexer": "ipython3",
   "version": "3.10.5"
  }
 },
 "nbformat": 4,
 "nbformat_minor": 5
}
